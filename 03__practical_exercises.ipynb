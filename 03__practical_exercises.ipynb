{
 "cells": [
  {
   "cell_type": "code",
   "execution_count": 1,
   "metadata": {},
   "outputs": [],
   "source": [
    "import matplotlib.pyplot as plt\n",
    "import pandas as pd"
   ]
  },
  {
   "cell_type": "code",
   "execution_count": 2,
   "metadata": {},
   "outputs": [],
   "source": [
    "url = 'https://www.famaf.unc.edu.ar/~nocampo043/sysarmy_survey_2020_processed.csv'\n",
    "df = pd.read_csv(url)"
   ]
  },
  {
   "cell_type": "markdown",
   "metadata": {},
   "source": [
    "Replicate the template https://dash.gallery/dash-wind-streaming/  using html and css but through the dash syntax. Replace all the plots with plotly visualizations from the notebooks `01__practical_exercises.ipynb`, `02__practical_exercises.ipynb`, and `04__plotly_vs_seaborn.ipynb`."
   ]
  },
  {
   "cell_type": "markdown",
   "metadata": {},
   "source": [
    "**Some of those possible plots to use in your dash app**"
   ]
  },
  {
   "cell_type": "code",
   "execution_count": 3,
   "metadata": {},
   "outputs": [],
   "source": [
    "import plotly.express as px"
   ]
  },
  {
   "cell_type": "code",
   "execution_count": 4,
   "metadata": {},
   "outputs": [],
   "source": [
    "df_fp = df[df[\"work_contract_type\"].isin([\"Full-Time\", \"Part-Time\"])]\n",
    "\n",
    "salary_vs_contract_sc_fig = px.scatter(df_fp, y=\"salary_monthly_GROSS\", x=\"salary_monthly_NET\", color=\"work_contract_type\")"
   ]
  },
  {
   "cell_type": "code",
   "execution_count": 5,
   "metadata": {},
   "outputs": [],
   "source": [
    "salary_vs_contract_box_fig = px.box(df_fp, y=\"work_contract_type\", x=\"salary_monthly_NET\")"
   ]
  },
  {
   "cell_type": "code",
   "execution_count": 7,
   "metadata": {},
   "outputs": [
    {
     "name": "stderr",
     "output_type": "stream",
     "text": [
      "/tmp/ipykernel_276993/1184189024.py:13: SettingWithCopyWarning:\n",
      "\n",
      "\n",
      "A value is trying to be set on a copy of a slice from a DataFrame.\n",
      "Try using .loc[row_indexer,col_indexer] = value instead\n",
      "\n",
      "See the caveats in the documentation: https://pandas.pydata.org/pandas-docs/stable/user_guide/indexing.html#returning-a-view-versus-a-copy\n",
      "\n"
     ]
    }
   ],
   "source": [
    "import numpy\n",
    "\n",
    "def to_categorical(column, bin_size=5, min_cut=15, max_cut=50):\n",
    "    if min_cut is None:\n",
    "        min_cut = int(round(column.min())) - 1\n",
    "    value_max = int(numpy.ceil(column.max()))\n",
    "    max_cut = min(max_cut, value_max)\n",
    "    intervals = [(x, x + bin_size) for x in range(min_cut, max_cut, bin_size)]\n",
    "    if max_cut != value_max:\n",
    "        intervals.append((max_cut, value_max))\n",
    "    return pd.cut(column, pd.IntervalIndex.from_tuples(intervals))\n",
    "\n",
    "df_fp['profile_age_segment'] = to_categorical(df.profile_age)\n",
    "\n",
    "df_age_segment_mean = (\n",
    "    df_fp[[\"profile_age_segment\", \"salary_monthly_NET\"]]\n",
    "      .groupby(\"profile_age_segment\")\n",
    "      .agg(salary_monthly_NET_mean=(\"salary_monthly_NET\", \"mean\"),\n",
    "           salary_monthly_NET_std=(\"salary_monthly_NET\", \"std\"))\n",
    "      .reset_index()\n",
    ")\n",
    "df_age_segment_mean[\"profile_age_segment_str\"] = df_age_segment_mean[\"profile_age_segment\"].astype(str)\n",
    "salary_vs_age_bar_fig = px.bar(df_age_segment_mean,\n",
    "                               x='profile_age_segment_str',\n",
    "                               y='salary_monthly_NET_mean',\n",
    "                               error_y=\"salary_monthly_NET_std\")"
   ]
  },
  {
   "cell_type": "code",
   "execution_count": 8,
   "metadata": {},
   "outputs": [
    {
     "name": "stdout",
     "output_type": "stream",
     "text": [
      "Dash app running on http://127.0.0.1:8050/\n"
     ]
    }
   ],
   "source": [
    "import pandas as pd\n",
    "\n",
    "from dash import dcc\n",
    "from dash import html\n",
    "from jupyter_dash import JupyterDash\n",
    "\n",
    "app = JupyterDash(__name__)\n",
    "# Complete here!\n",
    "app.layout = html.Div(\n",
    "    children=[]\n",
    ")\n",
    "\n",
    "if __name__ =='__main__':\n",
    "    app.run_server(mode=\"external\")"
   ]
  },
  {
   "cell_type": "code",
   "execution_count": null,
   "metadata": {},
   "outputs": [],
   "source": []
  }
 ],
 "metadata": {
  "kernelspec": {
   "display_name": "dash-demo",
   "language": "python",
   "name": "dash-demo"
  },
  "language_info": {
   "codemirror_mode": {
    "name": "ipython",
    "version": 3
   },
   "file_extension": ".py",
   "mimetype": "text/x-python",
   "name": "python",
   "nbconvert_exporter": "python",
   "pygments_lexer": "ipython3",
   "version": "3.10.6"
  }
 },
 "nbformat": 4,
 "nbformat_minor": 2
}
