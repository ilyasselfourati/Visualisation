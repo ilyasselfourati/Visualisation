{
 "cells": [
  {
   "cell_type": "markdown",
   "metadata": {
    "id": "EB5yOZ6THhUF"
   },
   "source": [
    "# Basics of Dash"
   ]
  },
  {
   "cell_type": "markdown",
   "metadata": {
    "id": "fYFUOfniHmSk"
   },
   "source": [
    "## Installation"
   ]
  },
  {
   "cell_type": "markdown",
   "metadata": {
    "id": "edL2ODcZHw-j"
   },
   "source": [
    "We are going to use Google Colab to deploy in a localhost server a Dash application. In this way we will avoid using environments or further configuration steps in our computers. We only need to install dash by means of the python package manager pip."
   ]
  },
  {
   "cell_type": "code",
   "execution_count": 1,
   "metadata": {
    "colab": {
     "base_uri": "https://localhost:8080/"
    },
    "id": "GyH0VdFmNFG2",
    "outputId": "8c5be183-aac0-42bd-9b58-58d0fb50297e"
   },
   "outputs": [
    {
     "name": "stdout",
     "output_type": "stream",
     "text": [
      "Defaulting to user installation because normal site-packages is not writeable\n",
      "Requirement already satisfied: dash in /home/nocampo/.local/lib/python3.10/site-packages (2.6.1)\n",
      "Requirement already satisfied: dash-html-components==2.0.0 in /home/nocampo/.local/lib/python3.10/site-packages (from dash) (2.0.0)\n",
      "Requirement already satisfied: flask-compress in /home/nocampo/.local/lib/python3.10/site-packages (from dash) (1.12)\n",
      "Requirement already satisfied: plotly>=5.0.0 in /home/nocampo/.local/lib/python3.10/site-packages (from dash) (5.10.0)\n",
      "Requirement already satisfied: dash-table==5.0.0 in /home/nocampo/.local/lib/python3.10/site-packages (from dash) (5.0.0)\n",
      "Requirement already satisfied: dash-core-components==2.0.0 in /home/nocampo/.local/lib/python3.10/site-packages (from dash) (2.0.0)\n",
      "Requirement already satisfied: Flask>=1.0.4 in /home/nocampo/.local/lib/python3.10/site-packages (from dash) (2.2.2)\n",
      "Requirement already satisfied: Werkzeug>=2.2.2 in /home/nocampo/.local/lib/python3.10/site-packages (from Flask>=1.0.4->dash) (2.2.2)\n",
      "Requirement already satisfied: click>=8.0 in /usr/lib/python3.10/site-packages (from Flask>=1.0.4->dash) (8.0.1)\n",
      "Requirement already satisfied: Jinja2>=3.0 in /home/nocampo/.local/lib/python3.10/site-packages (from Flask>=1.0.4->dash) (3.1.2)\n",
      "Requirement already satisfied: itsdangerous>=2.0 in /home/nocampo/.local/lib/python3.10/site-packages (from Flask>=1.0.4->dash) (2.1.2)\n",
      "Requirement already satisfied: MarkupSafe>=2.0 in /home/nocampo/.local/lib/python3.10/site-packages (from Jinja2>=3.0->Flask>=1.0.4->dash) (2.1.1)\n",
      "Requirement already satisfied: tenacity>=6.2.0 in /home/nocampo/.local/lib/python3.10/site-packages (from plotly>=5.0.0->dash) (8.0.1)\n",
      "Requirement already satisfied: brotli in /usr/lib64/python3.10/site-packages (from flask-compress->dash) (1.0.9)\n"
     ]
    }
   ],
   "source": [
    "!pip install dash"
   ]
  },
  {
   "cell_type": "code",
   "execution_count": 2,
   "metadata": {
    "id": "P_UGS1d2VWOA"
   },
   "outputs": [
    {
     "name": "stdout",
     "output_type": "stream",
     "text": [
      "Defaulting to user installation because normal site-packages is not writeable\n",
      "Requirement already satisfied: jupyter-dash in /home/nocampo/.local/lib/python3.10/site-packages (0.4.2)\n",
      "Requirement already satisfied: ipython in /home/nocampo/.local/lib/python3.10/site-packages (from jupyter-dash) (8.0.1)\n",
      "Requirement already satisfied: dash in /home/nocampo/.local/lib/python3.10/site-packages (from jupyter-dash) (2.6.1)\n",
      "Requirement already satisfied: requests in /usr/lib/python3.10/site-packages (from jupyter-dash) (2.27.1)\n",
      "Requirement already satisfied: retrying in /home/nocampo/.local/lib/python3.10/site-packages (from jupyter-dash) (1.3.3)\n",
      "Requirement already satisfied: ansi2html in /home/nocampo/.local/lib/python3.10/site-packages (from jupyter-dash) (1.8.0)\n",
      "Requirement already satisfied: ipykernel in /home/nocampo/.local/lib/python3.10/site-packages (from jupyter-dash) (6.15.3)\n",
      "Requirement already satisfied: nest-asyncio in /home/nocampo/.local/lib/python3.10/site-packages (from jupyter-dash) (1.5.4)\n",
      "Requirement already satisfied: flask in /home/nocampo/.local/lib/python3.10/site-packages (from jupyter-dash) (2.2.2)\n",
      "Requirement already satisfied: dash-html-components==2.0.0 in /home/nocampo/.local/lib/python3.10/site-packages (from dash->jupyter-dash) (2.0.0)\n",
      "Requirement already satisfied: flask-compress in /home/nocampo/.local/lib/python3.10/site-packages (from dash->jupyter-dash) (1.12)\n",
      "Requirement already satisfied: dash-core-components==2.0.0 in /home/nocampo/.local/lib/python3.10/site-packages (from dash->jupyter-dash) (2.0.0)\n",
      "Requirement already satisfied: dash-table==5.0.0 in /home/nocampo/.local/lib/python3.10/site-packages (from dash->jupyter-dash) (5.0.0)\n",
      "Requirement already satisfied: plotly>=5.0.0 in /home/nocampo/.local/lib/python3.10/site-packages (from dash->jupyter-dash) (5.10.0)\n",
      "Requirement already satisfied: itsdangerous>=2.0 in /home/nocampo/.local/lib/python3.10/site-packages (from flask->jupyter-dash) (2.1.2)\n",
      "Requirement already satisfied: Jinja2>=3.0 in /home/nocampo/.local/lib/python3.10/site-packages (from flask->jupyter-dash) (3.1.2)\n",
      "Requirement already satisfied: click>=8.0 in /usr/lib/python3.10/site-packages (from flask->jupyter-dash) (8.0.1)\n",
      "Requirement already satisfied: Werkzeug>=2.2.2 in /home/nocampo/.local/lib/python3.10/site-packages (from flask->jupyter-dash) (2.2.2)\n",
      "Requirement already satisfied: MarkupSafe>=2.0 in /home/nocampo/.local/lib/python3.10/site-packages (from Jinja2>=3.0->flask->jupyter-dash) (2.1.1)\n",
      "Requirement already satisfied: tenacity>=6.2.0 in /home/nocampo/.local/lib/python3.10/site-packages (from plotly>=5.0.0->dash->jupyter-dash) (8.0.1)\n",
      "Requirement already satisfied: brotli in /usr/lib64/python3.10/site-packages (from flask-compress->dash->jupyter-dash) (1.0.9)\n",
      "Requirement already satisfied: jupyter-client>=6.1.12 in /home/nocampo/.local/lib/python3.10/site-packages (from ipykernel->jupyter-dash) (7.1.2)\n",
      "Requirement already satisfied: packaging in /usr/lib/python3.10/site-packages (from ipykernel->jupyter-dash) (21.3)\n",
      "Requirement already satisfied: psutil in /usr/lib64/python3.10/site-packages (from ipykernel->jupyter-dash) (5.8.0)\n",
      "Requirement already satisfied: traitlets>=5.1.0 in /home/nocampo/.local/lib/python3.10/site-packages (from ipykernel->jupyter-dash) (5.4.0)\n",
      "Requirement already satisfied: tornado>=6.1 in /home/nocampo/.local/lib/python3.10/site-packages (from ipykernel->jupyter-dash) (6.1)\n",
      "Requirement already satisfied: pyzmq>=17 in /home/nocampo/.local/lib/python3.10/site-packages (from ipykernel->jupyter-dash) (22.3.0)\n",
      "Requirement already satisfied: debugpy>=1.0 in /home/nocampo/.local/lib/python3.10/site-packages (from ipykernel->jupyter-dash) (1.5.1)\n",
      "Requirement already satisfied: matplotlib-inline>=0.1 in /home/nocampo/.local/lib/python3.10/site-packages (from ipykernel->jupyter-dash) (0.1.3)\n",
      "Requirement already satisfied: decorator in /usr/lib/python3.10/site-packages (from ipython->jupyter-dash) (5.0.9)\n",
      "Requirement already satisfied: setuptools>=18.5 in /usr/lib/python3.10/site-packages (from ipython->jupyter-dash) (57.4.0)\n",
      "Requirement already satisfied: prompt-toolkit!=3.0.0,!=3.0.1,<3.1.0,>=2.0.0 in /home/nocampo/.local/lib/python3.10/site-packages (from ipython->jupyter-dash) (3.0.27)\n",
      "Requirement already satisfied: pygments in /usr/lib/python3.10/site-packages (from ipython->jupyter-dash) (2.9.0)\n",
      "Requirement already satisfied: backcall in /home/nocampo/.local/lib/python3.10/site-packages (from ipython->jupyter-dash) (0.2.0)\n",
      "Requirement already satisfied: pickleshare in /home/nocampo/.local/lib/python3.10/site-packages (from ipython->jupyter-dash) (0.7.5)\n",
      "Requirement already satisfied: jedi>=0.16 in /home/nocampo/.local/lib/python3.10/site-packages (from ipython->jupyter-dash) (0.18.1)\n",
      "Requirement already satisfied: black in /home/nocampo/.local/lib/python3.10/site-packages (from ipython->jupyter-dash) (22.1.0)\n",
      "Requirement already satisfied: pexpect>4.3 in /usr/lib/python3.10/site-packages (from ipython->jupyter-dash) (4.8.0)\n",
      "Requirement already satisfied: stack-data in /home/nocampo/.local/lib/python3.10/site-packages (from ipython->jupyter-dash) (0.1.4)\n",
      "Requirement already satisfied: parso<0.9.0,>=0.8.0 in /home/nocampo/.local/lib/python3.10/site-packages (from jedi>=0.16->ipython->jupyter-dash) (0.8.3)\n",
      "Requirement already satisfied: entrypoints in /home/nocampo/.local/lib/python3.10/site-packages (from jupyter-client>=6.1.12->ipykernel->jupyter-dash) (0.4)\n",
      "Requirement already satisfied: jupyter-core>=4.6.0 in /home/nocampo/.local/lib/python3.10/site-packages (from jupyter-client>=6.1.12->ipykernel->jupyter-dash) (4.9.1)\n",
      "Requirement already satisfied: python-dateutil>=2.1 in /usr/lib/python3.10/site-packages (from jupyter-client>=6.1.12->ipykernel->jupyter-dash) (2.8.1)\n",
      "Requirement already satisfied: wcwidth in /home/nocampo/.local/lib/python3.10/site-packages (from prompt-toolkit!=3.0.0,!=3.0.1,<3.1.0,>=2.0.0->ipython->jupyter-dash) (0.2.5)\n",
      "Requirement already satisfied: six>=1.5 in /usr/lib/python3.10/site-packages (from python-dateutil>=2.1->jupyter-client>=6.1.12->ipykernel->jupyter-dash) (1.16.0)\n",
      "Requirement already satisfied: pathspec>=0.9.0 in /home/nocampo/.local/lib/python3.10/site-packages (from black->ipython->jupyter-dash) (0.9.0)\n",
      "Requirement already satisfied: mypy-extensions>=0.4.3 in /home/nocampo/.local/lib/python3.10/site-packages (from black->ipython->jupyter-dash) (0.4.3)\n",
      "Requirement already satisfied: tomli>=1.1.0 in /home/nocampo/.local/lib/python3.10/site-packages (from black->ipython->jupyter-dash) (2.0.1)\n",
      "Requirement already satisfied: platformdirs>=2 in /home/nocampo/.local/lib/python3.10/site-packages (from black->ipython->jupyter-dash) (2.5.0)\n",
      "Requirement already satisfied: pyparsing!=3.0.5,>=2.0.2 in /usr/lib/python3.10/site-packages (from packaging->ipykernel->jupyter-dash) (2.4.7)\n",
      "Requirement already satisfied: idna<4,>=2.5 in /usr/lib/python3.10/site-packages (from requests->jupyter-dash) (3.2)\n",
      "Requirement already satisfied: urllib3<1.27,>=1.21.1 in /usr/lib/python3.10/site-packages (from requests->jupyter-dash) (1.26.7)\n",
      "Requirement already satisfied: charset-normalizer~=2.0.0 in /usr/lib/python3.10/site-packages (from requests->jupyter-dash) (2.0.4)\n",
      "Requirement already satisfied: executing in /home/nocampo/.local/lib/python3.10/site-packages (from stack-data->ipython->jupyter-dash) (0.8.2)\n",
      "Requirement already satisfied: asttokens in /home/nocampo/.local/lib/python3.10/site-packages (from stack-data->ipython->jupyter-dash) (2.0.5)\n",
      "Requirement already satisfied: pure-eval in /home/nocampo/.local/lib/python3.10/site-packages (from stack-data->ipython->jupyter-dash) (0.2.2)\n"
     ]
    }
   ],
   "source": [
    "!pip install jupyter-dash"
   ]
  },
  {
   "cell_type": "markdown",
   "metadata": {
    "id": "zuanG-uFHuQl"
   },
   "source": [
    "## Libraries"
   ]
  },
  {
   "cell_type": "markdown",
   "metadata": {
    "id": "kaoqY-qqIJxQ"
   },
   "source": [
    "Once we installed them we import `pandas` in order to deal with the dataset as usual. `plotly` to make the visualizations. And finally `Dash` to build an small static website."
   ]
  },
  {
   "cell_type": "code",
   "execution_count": 3,
   "metadata": {
    "id": "4ZKPQQ97M2cP"
   },
   "outputs": [],
   "source": [
    "import pandas as pd\n",
    "\n",
    "import plotly.graph_objects as go\n",
    "import plotly.express as px\n",
    "\n",
    "from dash import dcc\n",
    "from dash import html\n",
    "from jupyter_dash import JupyterDash"
   ]
  },
  {
   "cell_type": "markdown",
   "metadata": {
    "id": "ZwPHKFU8Igg1"
   },
   "source": [
    "## Reading the dataset"
   ]
  },
  {
   "cell_type": "code",
   "execution_count": 4,
   "metadata": {
    "id": "7XB0NOR5M7w5"
   },
   "outputs": [],
   "source": [
    "url = 'https://www.famaf.unc.edu.ar/~nocampo043/sysarmy_survey_2020_processed.csv'\n",
    "df = pd.read_csv(url)"
   ]
  },
  {
   "cell_type": "markdown",
   "metadata": {
    "id": "bLzma-PnIh9W"
   },
   "source": [
    "## What do we plot?\n",
    "\n",
    "After the exploration process we need to choose the plots we are going to show to the our clients, supervisors, boss. In this case we are going to come back to previous plots of the nobetook 04. Our choices plots related to the `salary_monthly_NET` variable and the `profile_studies_level`. In this case 3 types of barplots.\n",
    "\n",
    "We saved each of these plots as figures objects (note the fig suffix we added to their name)."
   ]
  },
  {
   "cell_type": "code",
   "execution_count": 5,
   "metadata": {
    "id": "9OTrRyvyc8aa"
   },
   "outputs": [],
   "source": [
    "sorted_studies_levels = [\"Primary\", \"Secondary\", \"Terciary\", \"University\",\n",
    "                         \"Postgraduate\", \"Doctorate\", \"Postdoc\"]\n",
    "\n",
    "# Barplot of the profile_studies_level alongside their frequency count.\n",
    "df_studies_level_count = (\n",
    "    df[\"profile_studies_level\"]\n",
    "      .value_counts()\n",
    "      .reset_index()\n",
    "      .rename(columns={\"index\": \"profile_studies_level\",\n",
    "                       \"profile_studies_level\": \"count\"})\n",
    ")\n",
    "\n",
    "studies_level_count_fig = px.bar(df_studies_level_count,\n",
    "                                 x='profile_studies_level',\n",
    "                                 y='count',\n",
    "                                 category_orders=dict(profile_studies_level=sorted_studies_levels))\n",
    "\n",
    "# Barplot of the profile_studies_level alongside the mean of the salary\n",
    "\n",
    "df_studies_level_mean = (\n",
    "    df[[\"profile_studies_level\", \"salary_monthly_NET\"]]\n",
    "      .groupby(\"profile_studies_level\")\n",
    "      .mean()\n",
    "      .reset_index()\n",
    "      .rename(columns={\"salary_monthly_NET\": \"salary_monthly_NET_mean\"})\n",
    ")\n",
    "\n",
    "studies_level_mean_fig = px.bar(df_studies_level_mean,\n",
    "                                x='profile_studies_level',\n",
    "                                y='salary_monthly_NET_mean',\n",
    "                                category_orders=dict(profile_studies_level=sorted_studies_levels))\n",
    "\n",
    "\n",
    "# Barplot using grouped studies level alongside the mean of the salary\n",
    "new_groups = {\n",
    "    'Postdoc': 'Postgraduate',\n",
    "    'Doctorate': 'Postgraduate',\n",
    "    'Primary': 'Pre-degree',\n",
    "    'Secondary': 'Pre-degree'\n",
    "}\n",
    "order = ['Pre-degree', 'Terciary', 'University', 'Postgraduate']\n",
    "grouped_studies_level = df.profile_studies_level.replace(new_groups)\n",
    "df[\"grouped_profile_studies_level\"] = grouped_studies_level\n",
    "\n",
    "df_grouped_studies_level_mean = (\n",
    "    df[[\"grouped_profile_studies_level\", \"profile_studies_level_state\", \"salary_monthly_NET\"]]\n",
    "      .groupby([\"grouped_profile_studies_level\", \"profile_studies_level_state\"])\n",
    "      .mean()\n",
    "      .reset_index()\n",
    "      .rename(columns={\"salary_monthly_NET\": \"salary_monthly_NET_mean\"})\n",
    ")\n",
    "\n",
    "grouped_studies_level_fig = px.bar(df_grouped_studies_level_mean,\n",
    "                                   x='grouped_profile_studies_level',\n",
    "                                   y='salary_monthly_NET_mean',\n",
    "                                   color='profile_studies_level_state',\n",
    "                                   barmode='group',\n",
    "                                   category_orders=dict(grouped_profile_studies_level=order))"
   ]
  },
  {
   "cell_type": "markdown",
   "metadata": {
    "id": "393FrL8UJVia"
   },
   "source": [
    "## HTML and CSS\n",
    "\n",
    "HTML is a declarative language to specify the layout of a webpage.\n",
    "\n",
    "Cascading Style Sheets (CSS) is used to format the layout of a webpage.\n",
    "\n",
    "With CSS, you can control the color, font, the size of text, the spacing between elements, how elements are positioned and laid out, what background images or background colors are to be used, different displays for different devices and screen sizes, and much more!"
   ]
  },
  {
   "cell_type": "markdown",
   "metadata": {
    "id": "g5flHlh8Ju5m"
   },
   "source": [
    "In this code cell we formated each section in our layout and set certain visualization properties. For example the header has a dark blue color with a height of 256 pixeles."
   ]
  },
  {
   "cell_type": "code",
   "execution_count": 6,
   "metadata": {
    "id": "ZigJvlMPGR59"
   },
   "outputs": [],
   "source": [
    "header = {\n",
    "    \"background-color\": \"#222222\",\n",
    "    \"height\": \"256px\",\n",
    "    \"display\": \"flex\",\n",
    "    \"flex-direction\": \"column\",\n",
    "    \"justify-content\": \"center;\",\n",
    "}\n",
    "\n",
    "header_title = {\n",
    "    'color': '#FFFFFF',\n",
    "    'font-size': '48px',\n",
    "    'font-weight': 'bold',\n",
    "    'text-align': 'center',\n",
    "    'margin': '0 auto',\n",
    "}\n",
    "\n",
    "header_description = {\n",
    "    'color': '#CFCFCF',\n",
    "    'margin': '4px auto',\n",
    "    'text-align': 'center',\n",
    "    'max-width': '384px',\n",
    "}\n",
    "\n",
    "plot_card = {\n",
    "    'margin-bottom': '24px',\n",
    "    'box-shadow': '0 4px 6px 0 rgba(0, 0, 0, 0.18)'\n",
    "}\n",
    "\n",
    "wrapper = {\n",
    "    'margin-right': 'auto',\n",
    "    'margin-left': 'auto',\n",
    "    'max-width': '1024px',\n",
    "    'padding-right': '10px',\n",
    "    'padding-left': '10px',\n",
    "    'margin-top': '32px',\n",
    "    'font-family': '\"Lato\", sans-serif',\n",
    "    'background-color': '#F7F7F7'\n",
    "}"
   ]
  },
  {
   "cell_type": "markdown",
   "metadata": {
    "id": "PP2KSPebJtuy"
   },
   "source": [
    "Once we defined the styles and the layout we can combine them using slash. Here Div objects correspond to `<div>` tags in html, the parameter `children` indicates all the following tags that depend on the `div` object. Once our layout is finished we can run our application server in external mode so it can be run in your localhost in this case in http://127.0.0.1:8050/ ."
   ]
  },
  {
   "cell_type": "code",
   "execution_count": 7,
   "metadata": {
    "colab": {
     "base_uri": "https://localhost:8080/",
     "height": 52
    },
    "id": "Dm7dDVuDNs1P",
    "outputId": "0e684d17-7044-4d7a-81fd-73ea8e722277"
   },
   "outputs": [
    {
     "name": "stdout",
     "output_type": "stream",
     "text": [
      "Dash app running on http://127.0.0.1:8050/\n"
     ]
    }
   ],
   "source": [
    "app = JupyterDash(__name__)\n",
    "app.layout = html.Div(\n",
    "    children=[\n",
    "        html.Div(\n",
    "            children=[\n",
    "                html.H1(children=\"Using Dash\", style=header_title),\n",
    "                html.P(\n",
    "                    children=\"Analyze the salary monthly net alongside the years of experience\",\n",
    "                    style=header_description\n",
    "                )     \n",
    "            ],\n",
    "            style=header),\n",
    "        html.Div(\n",
    "            children=[\n",
    "                dcc.Graph(figure=studies_level_count_fig),\n",
    "                dcc.Graph(figure=studies_level_mean_fig),\n",
    "                dcc.Graph(figure=grouped_studies_level_fig)         \n",
    "            ],\n",
    "            style=plot_card,\n",
    "        )\n",
    "    ],\n",
    "    style=wrapper\n",
    ")\n",
    "\n",
    "if __name__ =='__main__':\n",
    "    app.run_server(mode=\"external\")"
   ]
  },
  {
   "cell_type": "code",
   "execution_count": null,
   "metadata": {
    "id": "O7XnoTapHHtq"
   },
   "outputs": [],
   "source": []
  }
 ],
 "metadata": {
  "colab": {
   "collapsed_sections": [],
   "name": "05__dash.ipynb",
   "provenance": [],
   "toc_visible": true
  },
  "kernelspec": {
   "display_name": "dash-demo",
   "language": "python",
   "name": "dash-demo"
  },
  "language_info": {
   "codemirror_mode": {
    "name": "ipython",
    "version": 3
   },
   "file_extension": ".py",
   "mimetype": "text/x-python",
   "name": "python",
   "nbconvert_exporter": "python",
   "pygments_lexer": "ipython3",
   "version": "3.10.6"
  }
 },
 "nbformat": 4,
 "nbformat_minor": 1
}
