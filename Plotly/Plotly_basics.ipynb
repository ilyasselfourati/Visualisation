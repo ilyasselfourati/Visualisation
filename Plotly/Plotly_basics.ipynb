{
 "cells": [
  {
   "cell_type": "markdown",
   "metadata": {},
   "source": [
    "# <h1><center><font color='yellow'> Plotly : </font></center></h1>"
   ]
  },
  {
   "cell_type": "markdown",
   "metadata": {},
   "source": [
    "# <font color='cyan'>Pie Chart : </font>  "
   ]
  },
  {
   "cell_type": "code",
   "execution_count": 1,
   "metadata": {},
   "outputs": [
    {
     "ename": "KeyboardInterrupt",
     "evalue": "",
     "output_type": "error",
     "traceback": [
      "\u001b[1;31m---------------------------------------------------------------------------\u001b[0m",
      "\u001b[1;31mKeyboardInterrupt\u001b[0m                         Traceback (most recent call last)",
      "Cell \u001b[1;32mIn [1], line 1\u001b[0m\n\u001b[1;32m----> 1\u001b[0m \u001b[39mimport\u001b[39;00m \u001b[39mpandas\u001b[39;00m \u001b[39mas\u001b[39;00m \u001b[39mpd\u001b[39;00m     \u001b[39m#(version 1.0.0)\u001b[39;00m\n\u001b[0;32m      2\u001b[0m \u001b[39mimport\u001b[39;00m \u001b[39mplotly\u001b[39;00m           \u001b[39m#(version 4.5.4) #pip install plotly==4.5.4\u001b[39;00m\n\u001b[0;32m      3\u001b[0m \u001b[39mimport\u001b[39;00m \u001b[39mplotly\u001b[39;00m\u001b[39m.\u001b[39;00m\u001b[39mexpress\u001b[39;00m \u001b[39mas\u001b[39;00m \u001b[39mpx\u001b[39;00m\n",
      "File \u001b[1;32m~\\AppData\\Local\\Packages\\PythonSoftwareFoundation.Python.3.10_qbz5n2kfra8p0\\LocalCache\\local-packages\\Python310\\site-packages\\pandas\\__init__.py:11\u001b[0m\n\u001b[0;32m      9\u001b[0m \u001b[39mfor\u001b[39;00m _dependency \u001b[39min\u001b[39;00m _hard_dependencies:\n\u001b[0;32m     10\u001b[0m     \u001b[39mtry\u001b[39;00m:\n\u001b[1;32m---> 11\u001b[0m         \u001b[39m__import__\u001b[39;49m(_dependency)\n\u001b[0;32m     12\u001b[0m     \u001b[39mexcept\u001b[39;00m \u001b[39mImportError\u001b[39;00m \u001b[39mas\u001b[39;00m _e:\n\u001b[0;32m     13\u001b[0m         _missing_dependencies\u001b[39m.\u001b[39mappend(\u001b[39mf\u001b[39m\u001b[39m\"\u001b[39m\u001b[39m{\u001b[39;00m_dependency\u001b[39m}\u001b[39;00m\u001b[39m: \u001b[39m\u001b[39m{\u001b[39;00m_e\u001b[39m}\u001b[39;00m\u001b[39m\"\u001b[39m)\n",
      "File \u001b[1;32m~\\AppData\\Local\\Packages\\PythonSoftwareFoundation.Python.3.10_qbz5n2kfra8p0\\LocalCache\\local-packages\\Python310\\site-packages\\numpy\\__init__.py:151\u001b[0m\n\u001b[0;32m    149\u001b[0m \u001b[39mfrom\u001b[39;00m \u001b[39m.\u001b[39;00m \u001b[39mimport\u001b[39;00m fft\n\u001b[0;32m    150\u001b[0m \u001b[39mfrom\u001b[39;00m \u001b[39m.\u001b[39;00m \u001b[39mimport\u001b[39;00m polynomial\n\u001b[1;32m--> 151\u001b[0m \u001b[39mfrom\u001b[39;00m \u001b[39m.\u001b[39;00m \u001b[39mimport\u001b[39;00m random\n\u001b[0;32m    152\u001b[0m \u001b[39mfrom\u001b[39;00m \u001b[39m.\u001b[39;00m \u001b[39mimport\u001b[39;00m ctypeslib\n\u001b[0;32m    153\u001b[0m \u001b[39mfrom\u001b[39;00m \u001b[39m.\u001b[39;00m \u001b[39mimport\u001b[39;00m ma\n",
      "File \u001b[1;32m~\\AppData\\Local\\Packages\\PythonSoftwareFoundation.Python.3.10_qbz5n2kfra8p0\\LocalCache\\local-packages\\Python310\\site-packages\\numpy\\random\\__init__.py:180\u001b[0m\n\u001b[0;32m    126\u001b[0m __all__ \u001b[39m=\u001b[39m [\n\u001b[0;32m    127\u001b[0m     \u001b[39m'\u001b[39m\u001b[39mbeta\u001b[39m\u001b[39m'\u001b[39m,\n\u001b[0;32m    128\u001b[0m     \u001b[39m'\u001b[39m\u001b[39mbinomial\u001b[39m\u001b[39m'\u001b[39m,\n\u001b[1;32m   (...)\u001b[0m\n\u001b[0;32m    176\u001b[0m     \u001b[39m'\u001b[39m\u001b[39mzipf\u001b[39m\u001b[39m'\u001b[39m,\n\u001b[0;32m    177\u001b[0m ]\n\u001b[0;32m    179\u001b[0m \u001b[39m# add these for module-freeze analysis (like PyInstaller)\u001b[39;00m\n\u001b[1;32m--> 180\u001b[0m \u001b[39mfrom\u001b[39;00m \u001b[39m.\u001b[39;00m \u001b[39mimport\u001b[39;00m _pickle\n\u001b[0;32m    181\u001b[0m \u001b[39mfrom\u001b[39;00m \u001b[39m.\u001b[39;00m \u001b[39mimport\u001b[39;00m _common\n\u001b[0;32m    182\u001b[0m \u001b[39mfrom\u001b[39;00m \u001b[39m.\u001b[39;00m \u001b[39mimport\u001b[39;00m _bounded_integers\n",
      "File \u001b[1;32m~\\AppData\\Local\\Packages\\PythonSoftwareFoundation.Python.3.10_qbz5n2kfra8p0\\LocalCache\\local-packages\\Python310\\site-packages\\numpy\\random\\_pickle.py:2\u001b[0m\n\u001b[0;32m      1\u001b[0m \u001b[39mfrom\u001b[39;00m \u001b[39m.\u001b[39;00m\u001b[39mmtrand\u001b[39;00m \u001b[39mimport\u001b[39;00m RandomState\n\u001b[1;32m----> 2\u001b[0m \u001b[39mfrom\u001b[39;00m \u001b[39m.\u001b[39;00m\u001b[39m_philox\u001b[39;00m \u001b[39mimport\u001b[39;00m Philox\n\u001b[0;32m      3\u001b[0m \u001b[39mfrom\u001b[39;00m \u001b[39m.\u001b[39;00m\u001b[39m_pcg64\u001b[39;00m \u001b[39mimport\u001b[39;00m PCG64, PCG64DXSM\n\u001b[0;32m      4\u001b[0m \u001b[39mfrom\u001b[39;00m \u001b[39m.\u001b[39;00m\u001b[39m_sfc64\u001b[39;00m \u001b[39mimport\u001b[39;00m SFC64\n",
      "File \u001b[1;32m<frozen importlib._bootstrap>:404\u001b[0m, in \u001b[0;36mparent\u001b[1;34m(self)\u001b[0m\n",
      "\u001b[1;31mKeyboardInterrupt\u001b[0m: "
     ]
    }
   ],
   "source": [
    "import pandas as pd     #(version 1.0.0)\n",
    "import plotly           #(version 4.5.4) #pip install plotly==4.5.4\n",
    "import plotly.express as px\n",
    "import plotly.io as pio"
   ]
  },
  {
   "cell_type": "code",
   "execution_count": null,
   "metadata": {},
   "outputs": [],
   "source": [
    "#!pip install nbformat"
   ]
  },
  {
   "cell_type": "code",
   "execution_count": null,
   "metadata": {},
   "outputs": [
    {
     "data": {
      "text/html": [
       "<div>\n",
       "<style scoped>\n",
       "    .dataframe tbody tr th:only-of-type {\n",
       "        vertical-align: middle;\n",
       "    }\n",
       "\n",
       "    .dataframe tbody tr th {\n",
       "        vertical-align: top;\n",
       "    }\n",
       "\n",
       "    .dataframe thead th {\n",
       "        text-align: right;\n",
       "    }\n",
       "</style>\n",
       "<table border=\"1\" class=\"dataframe\">\n",
       "  <thead>\n",
       "    <tr style=\"text-align: right;\">\n",
       "      <th></th>\n",
       "      <th>Date</th>\n",
       "      <th>YEAR</th>\n",
       "      <th>MONTH</th>\n",
       "      <th>Bldg #</th>\n",
       "      <th>Side</th>\n",
       "      <th>SpeciesCode</th>\n",
       "      <th>Common Name</th>\n",
       "      <th>Deaths</th>\n",
       "    </tr>\n",
       "  </thead>\n",
       "  <tbody>\n",
       "    <tr>\n",
       "      <th>0</th>\n",
       "      <td>10/19/2013</td>\n",
       "      <td>2013</td>\n",
       "      <td>OCT</td>\n",
       "      <td>twelve</td>\n",
       "      <td>E</td>\n",
       "      <td>MODO</td>\n",
       "      <td>Mourning Dove</td>\n",
       "      <td>1</td>\n",
       "    </tr>\n",
       "    <tr>\n",
       "      <th>1</th>\n",
       "      <td>10/22/2013</td>\n",
       "      <td>2013</td>\n",
       "      <td>OCT</td>\n",
       "      <td>seventeen</td>\n",
       "      <td>C</td>\n",
       "      <td>EATO</td>\n",
       "      <td>Eastern Towhee</td>\n",
       "      <td>1</td>\n",
       "    </tr>\n",
       "    <tr>\n",
       "      <th>2</th>\n",
       "      <td>10/23/2013</td>\n",
       "      <td>2013</td>\n",
       "      <td>OCT</td>\n",
       "      <td>ten</td>\n",
       "      <td>D</td>\n",
       "      <td>HETH</td>\n",
       "      <td>Hermit Thrush</td>\n",
       "      <td>1</td>\n",
       "    </tr>\n",
       "    <tr>\n",
       "      <th>3</th>\n",
       "      <td>10/27/2013</td>\n",
       "      <td>2013</td>\n",
       "      <td>OCT</td>\n",
       "      <td>seven</td>\n",
       "      <td>B</td>\n",
       "      <td>GCKI</td>\n",
       "      <td>Golden-crowned Kinglet</td>\n",
       "      <td>1</td>\n",
       "    </tr>\n",
       "    <tr>\n",
       "      <th>4</th>\n",
       "      <td>10/28/2013</td>\n",
       "      <td>2013</td>\n",
       "      <td>OCT</td>\n",
       "      <td>nine</td>\n",
       "      <td>D</td>\n",
       "      <td>GRCA</td>\n",
       "      <td>Gray Catbird</td>\n",
       "      <td>1</td>\n",
       "    </tr>\n",
       "  </tbody>\n",
       "</table>\n",
       "</div>"
      ],
      "text/plain": [
       "         Date  YEAR MONTH     Bldg # Side SpeciesCode  \\\n",
       "0  10/19/2013  2013   OCT     twelve    E        MODO   \n",
       "1  10/22/2013  2013   OCT  seventeen    C        EATO   \n",
       "2  10/23/2013  2013   OCT        ten    D        HETH   \n",
       "3  10/27/2013  2013   OCT      seven    B        GCKI   \n",
       "4  10/28/2013  2013   OCT       nine    D        GRCA   \n",
       "\n",
       "               Common Name  Deaths  \n",
       "0           Mourning Dove        1  \n",
       "1          Eastern Towhee        1  \n",
       "2           Hermit Thrush        1  \n",
       "3  Golden-crowned Kinglet        1  \n",
       "4            Gray Catbird        1  "
      ]
     },
     "execution_count": 4,
     "metadata": {},
     "output_type": "execute_result"
    }
   ],
   "source": [
    "url='bird-window-collision-death.csv'\n",
    "data=pd.read_csv(url)\n",
    "data.head()"
   ]
  },
  {
   "cell_type": "code",
   "execution_count": null,
   "metadata": {},
   "outputs": [
    {
     "data": {
      "text/plain": [
       "8"
      ]
     },
     "execution_count": 5,
     "metadata": {},
     "output_type": "execute_result"
    }
   ],
   "source": [
    "data.shape[1]"
   ]
  },
  {
   "cell_type": "code",
   "execution_count": null,
   "metadata": {},
   "outputs": [
    {
     "data": {
      "application/vnd.plotly.v1+json": {
       "config": {
        "plotlyServerURL": "https://plot.ly"
       },
       "data": [
        {
         "customdata": [
          [
           "E"
          ],
          [
           "C"
          ],
          [
           "D"
          ],
          [
           "B"
          ],
          [
           "D"
          ],
          [
           "B"
          ],
          [
           "B"
          ],
          [
           "B"
          ],
          [
           "A"
          ],
          [
           "B"
          ],
          [
           "C"
          ],
          [
           "D"
          ],
          [
           "C"
          ],
          [
           "A"
          ],
          [
           "D"
          ],
          [
           "C"
          ],
          [
           "C"
          ],
          [
           "C"
          ],
          [
           "C"
          ],
          [
           "B"
          ],
          [
           "B"
          ],
          [
           "B"
          ],
          [
           "C"
          ],
          [
           "A"
          ],
          [
           "D"
          ],
          [
           "D"
          ],
          [
           "A"
          ],
          [
           "C"
          ],
          [
           "D"
          ],
          [
           "E"
          ],
          [
           "C"
          ],
          [
           "A"
          ],
          [
           "A"
          ],
          [
           "D"
          ],
          [
           "B"
          ],
          [
           "D"
          ],
          [
           "D"
          ],
          [
           "A"
          ],
          [
           "B"
          ],
          [
           "C"
          ],
          [
           "D"
          ],
          [
           "A"
          ],
          [
           "C"
          ],
          [
           "B"
          ],
          [
           "B"
          ],
          [
           "F"
          ],
          [
           "E"
          ],
          [
           "C"
          ],
          [
           "A"
          ],
          [
           "F"
          ],
          [
           "A"
          ],
          [
           "D"
          ],
          [
           "E"
          ],
          [
           "B"
          ],
          [
           "E"
          ],
          [
           "B"
          ],
          [
           "F"
          ],
          [
           "B"
          ],
          [
           "D"
          ],
          [
           "B"
          ],
          [
           "C"
          ],
          [
           "A"
          ],
          [
           "C"
          ],
          [
           "B"
          ],
          [
           "B"
          ],
          [
           "C"
          ],
          [
           "B"
          ],
          [
           "D"
          ],
          [
           "B"
          ],
          [
           "A"
          ],
          [
           "E"
          ],
          [
           "A"
          ],
          [
           "A"
          ],
          [
           "A"
          ],
          [
           "B"
          ],
          [
           "C"
          ],
          [
           "A"
          ],
          [
           "C"
          ],
          [
           "C"
          ],
          [
           "B"
          ],
          [
           "B"
          ],
          [
           "G"
          ],
          [
           "A"
          ],
          [
           "B"
          ],
          [
           "D"
          ],
          [
           "B"
          ],
          [
           "B"
          ],
          [
           "D"
          ],
          [
           "B"
          ],
          [
           "C"
          ],
          [
           "B"
          ],
          [
           "F"
          ],
          [
           "B"
          ],
          [
           "D"
          ],
          [
           "B"
          ],
          [
           "C"
          ],
          [
           "B"
          ],
          [
           "B"
          ],
          [
           "A"
          ],
          [
           "A"
          ],
          [
           "A"
          ],
          [
           "B"
          ],
          [
           "D"
          ],
          [
           "C"
          ],
          [
           "B"
          ],
          [
           "D"
          ],
          [
           "B"
          ],
          [
           "B"
          ],
          [
           "B"
          ],
          [
           "D"
          ],
          [
           "F"
          ],
          [
           "D"
          ],
          [
           "B"
          ],
          [
           "C"
          ],
          [
           "B"
          ],
          [
           "E"
          ],
          [
           "B"
          ],
          [
           "C"
          ],
          [
           "G"
          ],
          [
           "C"
          ],
          [
           "D"
          ],
          [
           "A"
          ],
          [
           "B"
          ],
          [
           "A"
          ],
          [
           "B"
          ],
          [
           "B"
          ],
          [
           "C"
          ],
          [
           "C"
          ],
          [
           "D"
          ],
          [
           "B"
          ],
          [
           "A"
          ],
          [
           "B"
          ],
          [
           "F"
          ],
          [
           "E"
          ],
          [
           "C"
          ],
          [
           "C"
          ],
          [
           "C "
          ],
          [
           "B"
          ],
          [
           "G"
          ],
          [
           "D"
          ],
          [
           "D"
          ],
          [
           "A"
          ],
          [
           "B"
          ],
          [
           "C"
          ],
          [
           "A"
          ],
          [
           "D"
          ],
          [
           "D"
          ],
          [
           "C"
          ],
          [
           "C"
          ],
          [
           "F"
          ],
          [
           "E"
          ],
          [
           "A"
          ],
          [
           "D"
          ],
          [
           "A"
          ],
          [
           "C"
          ],
          [
           "D"
          ],
          [
           "D"
          ],
          [
           "D"
          ],
          [
           "D"
          ],
          [
           "B"
          ],
          [
           "D"
          ],
          [
           "B"
          ],
          [
           "B"
          ],
          [
           "A"
          ],
          [
           "A"
          ],
          [
           "D"
          ],
          [
           "B"
          ],
          [
           "D"
          ],
          [
           "D"
          ],
          [
           "A/B"
          ],
          [
           "B"
          ],
          [
           "B"
          ],
          [
           "C"
          ],
          [
           "C"
          ],
          [
           "D"
          ],
          [
           "A"
          ],
          [
           "D"
          ],
          [
           "A"
          ],
          [
           "E"
          ],
          [
           "C"
          ],
          [
           "B"
          ],
          [
           "B"
          ],
          [
           "C"
          ],
          [
           "C"
          ],
          [
           "B"
          ],
          [
           "B"
          ],
          [
           "B"
          ],
          [
           "D"
          ],
          [
           "B"
          ],
          [
           "D"
          ],
          [
           "E"
          ],
          [
           "F"
          ],
          [
           "A"
          ],
          [
           "F"
          ],
          [
           "D"
          ],
          [
           "C"
          ],
          [
           "D"
          ],
          [
           "C"
          ],
          [
           "C"
          ],
          [
           "C"
          ],
          [
           "D"
          ],
          [
           "C"
          ],
          [
           "D"
          ],
          [
           "A"
          ],
          [
           "C"
          ],
          [
           "C"
          ],
          [
           "C"
          ],
          [
           "C"
          ],
          [
           "D"
          ],
          [
           "D"
          ],
          [
           "B"
          ],
          [
           "A"
          ],
          [
           "C"
          ],
          [
           "E"
          ],
          [
           "A"
          ],
          [
           "C"
          ],
          [
           "B"
          ],
          [
           "C"
          ],
          [
           "A"
          ],
          [
           "A"
          ],
          [
           "A"
          ],
          [
           "A"
          ],
          [
           "G"
          ],
          [
           "D"
          ],
          [
           "B"
          ],
          [
           "E"
          ],
          [
           "A"
          ],
          [
           "B"
          ],
          [
           "A"
          ],
          [
           "A"
          ],
          [
           "A"
          ],
          [
           "B"
          ],
          [
           "B"
          ],
          [
           "F"
          ],
          [
           "B"
          ],
          [
           "C"
          ],
          [
           "E"
          ],
          [
           "E/A"
          ],
          [
           "E/A"
          ],
          [
           "C"
          ]
         ],
         "domain": {
          "x": [
           0,
           1
          ],
          "y": [
           0,
           1
          ]
         },
         "hole": 0.3,
         "hovertemplate": "Bldg #=%{label}<br>Deaths=%{value}<br>Side=%{customdata[0]}<extra></extra>",
         "insidetextfont": {
          "color": "white"
         },
         "labels": [
          "twelve",
          "seventeen",
          "ten",
          "seven",
          "nine",
          "eleven",
          "fifteen",
          "fifteen",
          "twenty",
          "seven",
          "four",
          "eleven",
          "eleven",
          "sixteen",
          "sixteen",
          "three",
          "twelve",
          "eleven",
          "twenty-four",
          "eleven",
          "one",
          "three",
          "eight",
          "eleven",
          "sixteen",
          "seven",
          "four",
          "seven",
          "one",
          "seven",
          "twenty-four",
          "twenty-one",
          "twenty-one",
          "twenty-one",
          "one",
          "eleven",
          "sixteen",
          "one",
          "one",
          "four",
          "two",
          "twenty-one",
          "seven",
          "twenty-three",
          "nine",
          "fifteen",
          "fifteen",
          "one",
          "four",
          "twelve",
          "sixteen",
          "nine",
          "twenty-one",
          "four",
          "twenty-one",
          "eleven",
          "fifteen",
          "twenty",
          "eleven",
          "eleven",
          "eleven",
          "one",
          "twelve",
          "fourteen",
          "two",
          "four",
          "eleven",
          "sixteen",
          "seventeen",
          "twenty",
          "twenty-one",
          "twenty-four",
          "twenty-seven",
          "fifteen",
          "sixteen",
          "twenty-four",
          "seven",
          "twelve",
          "fourteen",
          "one",
          "twelve",
          "fifteen",
          "twenty",
          "one",
          "ten",
          "eleven",
          "twelve",
          "nine",
          "twenty",
          "ten",
          "twelve",
          "twelve",
          "fourteen",
          "fourteen",
          "thirty",
          "thirty",
          "twelve",
          "fourteen",
          "twenty",
          "twenty-four",
          "nine",
          "twenty",
          "twenty",
          "twenty-seven",
          "one",
          "twelve",
          "twelve",
          "sixteen",
          "two",
          "three",
          "ten",
          "twelve",
          "fourteen",
          "three",
          "four",
          "ten",
          "two",
          "thirty",
          "fifteen",
          "seventeen",
          "seventeen",
          "eleven",
          "eleven",
          "fifteen",
          "fifteen",
          "sixteen",
          "twenty-one",
          "three",
          "thirty",
          "nine",
          "eleven",
          "fourteen",
          "twenty-six",
          "twelve",
          "three",
          "three",
          "seven",
          "twelve",
          "fifteen",
          "twenty-seven",
          "seventeen",
          "twenty-four",
          "two",
          "three",
          "fifteen",
          "sixteen",
          "twenty-six",
          "one",
          "eleven",
          "twelve",
          "twenty",
          "twenty",
          "twenty-seven",
          "eleven",
          "eleven",
          "ten",
          "twelve",
          "twenty-three",
          "twenty-seven",
          "eleven",
          "fourteen",
          "two",
          "eleven",
          "eleven",
          "fourteen",
          "one",
          "nine",
          "sixteen",
          "sixteen",
          "seventeen",
          "twenty",
          "one",
          "twelve",
          "thirty",
          "two",
          "fifteen",
          "sixteen",
          "twenty",
          "twelve",
          "three",
          "twelve",
          "twelve",
          "eleven",
          "three",
          "three",
          "twelve",
          "twenty",
          "eleven",
          "twelve",
          "one",
          "ten",
          "twelve",
          "twenty-four",
          "twelve",
          "twenty-three",
          "eleven",
          "twelve",
          "seven",
          "seven",
          "seven",
          "twelve",
          "thirty",
          "two",
          "twenty-one",
          "fifteen",
          "three",
          "three",
          "three",
          "seven",
          "twelve",
          "twenty-seven",
          "eleven",
          "thirty",
          "twenty",
          "twenty",
          "twenty-one",
          "twelve",
          "two",
          "thirty",
          "sixteen",
          "twenty",
          "seven",
          "fifteen",
          "sixteen",
          "eleven",
          "ten",
          "eleven",
          "eleven",
          "one",
          "fourteen",
          "fourteen",
          "fourteen",
          "fourteen",
          "twelve",
          "fourteen",
          "seven",
          "seven",
          "seven",
          "seven",
          "thirteen"
         ],
         "legendgroup": "",
         "marker": {
          "colors": [
           "#636efa",
           "#EF553B",
           "#00cc96",
           "#ab63fa",
           "#00cc96",
           "#ab63fa",
           "#ab63fa",
           "#ab63fa",
           "#FFA15A",
           "#ab63fa",
           "#EF553B",
           "#00cc96",
           "#EF553B",
           "#FFA15A",
           "#00cc96",
           "#EF553B",
           "#EF553B",
           "#EF553B",
           "#EF553B",
           "#ab63fa",
           "#ab63fa",
           "#ab63fa",
           "#EF553B",
           "#FFA15A",
           "#00cc96",
           "#00cc96",
           "#FFA15A",
           "#EF553B",
           "#00cc96",
           "#636efa",
           "#EF553B",
           "#FFA15A",
           "#FFA15A",
           "#00cc96",
           "#ab63fa",
           "#00cc96",
           "#00cc96",
           "#FFA15A",
           "#ab63fa",
           "#EF553B",
           "#00cc96",
           "#FFA15A",
           "#EF553B",
           "#ab63fa",
           "#ab63fa",
           "#19d3f3",
           "#636efa",
           "#EF553B",
           "#FFA15A",
           "#19d3f3",
           "#FFA15A",
           "#00cc96",
           "#636efa",
           "#ab63fa",
           "#636efa",
           "#ab63fa",
           "#19d3f3",
           "#ab63fa",
           "#00cc96",
           "#ab63fa",
           "#EF553B",
           "#FFA15A",
           "#EF553B",
           "#ab63fa",
           "#ab63fa",
           "#EF553B",
           "#ab63fa",
           "#00cc96",
           "#ab63fa",
           "#FFA15A",
           "#636efa",
           "#FFA15A",
           "#FFA15A",
           "#FFA15A",
           "#ab63fa",
           "#EF553B",
           "#FFA15A",
           "#EF553B",
           "#EF553B",
           "#ab63fa",
           "#ab63fa",
           "#FF6692",
           "#FFA15A",
           "#ab63fa",
           "#00cc96",
           "#ab63fa",
           "#ab63fa",
           "#00cc96",
           "#ab63fa",
           "#EF553B",
           "#ab63fa",
           "#19d3f3",
           "#ab63fa",
           "#00cc96",
           "#ab63fa",
           "#EF553B",
           "#ab63fa",
           "#ab63fa",
           "#FFA15A",
           "#FFA15A",
           "#FFA15A",
           "#ab63fa",
           "#00cc96",
           "#EF553B",
           "#ab63fa",
           "#00cc96",
           "#ab63fa",
           "#ab63fa",
           "#ab63fa",
           "#00cc96",
           "#19d3f3",
           "#00cc96",
           "#ab63fa",
           "#EF553B",
           "#ab63fa",
           "#636efa",
           "#ab63fa",
           "#EF553B",
           "#FF6692",
           "#EF553B",
           "#00cc96",
           "#FFA15A",
           "#ab63fa",
           "#FFA15A",
           "#ab63fa",
           "#ab63fa",
           "#EF553B",
           "#EF553B",
           "#00cc96",
           "#ab63fa",
           "#FFA15A",
           "#ab63fa",
           "#19d3f3",
           "#636efa",
           "#EF553B",
           "#EF553B",
           "#B6E880",
           "#ab63fa",
           "#FF6692",
           "#00cc96",
           "#00cc96",
           "#FFA15A",
           "#ab63fa",
           "#EF553B",
           "#FFA15A",
           "#00cc96",
           "#00cc96",
           "#EF553B",
           "#EF553B",
           "#19d3f3",
           "#636efa",
           "#FFA15A",
           "#00cc96",
           "#FFA15A",
           "#EF553B",
           "#00cc96",
           "#00cc96",
           "#00cc96",
           "#00cc96",
           "#ab63fa",
           "#00cc96",
           "#ab63fa",
           "#ab63fa",
           "#FFA15A",
           "#FFA15A",
           "#00cc96",
           "#ab63fa",
           "#00cc96",
           "#00cc96",
           "#FF97FF",
           "#ab63fa",
           "#ab63fa",
           "#EF553B",
           "#EF553B",
           "#00cc96",
           "#FFA15A",
           "#00cc96",
           "#FFA15A",
           "#636efa",
           "#EF553B",
           "#ab63fa",
           "#ab63fa",
           "#EF553B",
           "#EF553B",
           "#ab63fa",
           "#ab63fa",
           "#ab63fa",
           "#00cc96",
           "#ab63fa",
           "#00cc96",
           "#636efa",
           "#19d3f3",
           "#FFA15A",
           "#19d3f3",
           "#00cc96",
           "#EF553B",
           "#00cc96",
           "#EF553B",
           "#EF553B",
           "#EF553B",
           "#00cc96",
           "#EF553B",
           "#00cc96",
           "#FFA15A",
           "#EF553B",
           "#EF553B",
           "#EF553B",
           "#EF553B",
           "#00cc96",
           "#00cc96",
           "#ab63fa",
           "#FFA15A",
           "#EF553B",
           "#636efa",
           "#FFA15A",
           "#EF553B",
           "#ab63fa",
           "#EF553B",
           "#FFA15A",
           "#FFA15A",
           "#FFA15A",
           "#FFA15A",
           "#FF6692",
           "#00cc96",
           "#ab63fa",
           "#636efa",
           "#FFA15A",
           "#ab63fa",
           "#FFA15A",
           "#FFA15A",
           "#FFA15A",
           "#ab63fa",
           "#ab63fa",
           "#19d3f3",
           "#ab63fa",
           "#EF553B",
           "#636efa",
           "#FECB52",
           "#FECB52",
           "#EF553B"
          ]
         },
         "name": "",
         "showlegend": true,
         "textinfo": "label+percent",
         "title": {
          "text": "Pie Chart"
         },
         "type": "pie",
         "values": [
          1,
          1,
          1,
          1,
          1,
          1,
          1,
          1,
          1,
          1,
          1,
          1,
          1,
          1,
          1,
          1,
          1,
          1,
          1,
          1,
          1,
          1,
          1,
          1,
          1,
          1,
          1,
          1,
          1,
          1,
          1,
          1,
          1,
          1,
          1,
          1,
          1,
          1,
          1,
          1,
          1,
          1,
          1,
          1,
          1,
          1,
          1,
          1,
          1,
          1,
          1,
          1,
          1,
          1,
          1,
          1,
          1,
          1,
          1,
          1,
          1,
          1,
          1,
          1,
          1,
          1,
          1,
          1,
          1,
          1,
          1,
          1,
          1,
          1,
          1,
          1,
          1,
          1,
          1,
          1,
          1,
          1,
          1,
          1,
          1,
          1,
          1,
          1,
          1,
          1,
          1,
          1,
          1,
          1,
          1,
          1,
          1,
          1,
          1,
          1,
          1,
          1,
          1,
          1,
          1,
          1,
          1,
          1,
          1,
          1,
          1,
          1,
          1,
          1,
          1,
          1,
          1,
          1,
          1,
          1,
          1,
          1,
          1,
          1,
          1,
          1,
          1,
          1,
          1,
          1,
          1,
          1,
          1,
          1,
          1,
          1,
          1,
          1,
          1,
          1,
          1,
          1,
          1,
          1,
          1,
          1,
          1,
          1,
          1,
          1,
          1,
          1,
          1,
          1,
          1,
          1,
          1,
          1,
          1,
          1,
          1,
          1,
          1,
          1,
          1,
          1,
          1,
          1,
          1,
          1,
          1,
          1,
          1,
          1,
          1,
          1,
          1,
          1,
          1,
          1,
          1,
          1,
          1,
          1,
          1,
          1,
          1,
          1,
          1,
          1,
          1,
          1,
          1,
          1,
          1,
          1,
          1,
          1,
          1,
          1,
          1,
          1,
          1,
          1,
          1,
          1,
          1,
          1,
          1,
          1,
          1,
          1,
          1,
          1,
          1,
          1,
          1,
          1,
          1,
          1,
          1,
          1,
          1,
          1,
          1,
          1,
          1,
          1,
          1,
          1,
          1,
          1,
          1,
          1,
          1,
          1,
          1,
          1,
          1,
          1
         ]
        }
       ],
       "layout": {
        "legend": {
         "itemclick": false,
         "tracegroupgap": 0
        },
        "margin": {
         "t": 60
        },
        "template": {
         "data": {
          "bar": [
           {
            "error_x": {
             "color": "#2a3f5f"
            },
            "error_y": {
             "color": "#2a3f5f"
            },
            "marker": {
             "line": {
              "color": "#E5ECF6",
              "width": 0.5
             },
             "pattern": {
              "fillmode": "overlay",
              "size": 10,
              "solidity": 0.2
             }
            },
            "type": "bar"
           }
          ],
          "barpolar": [
           {
            "marker": {
             "line": {
              "color": "#E5ECF6",
              "width": 0.5
             },
             "pattern": {
              "fillmode": "overlay",
              "size": 10,
              "solidity": 0.2
             }
            },
            "type": "barpolar"
           }
          ],
          "carpet": [
           {
            "aaxis": {
             "endlinecolor": "#2a3f5f",
             "gridcolor": "white",
             "linecolor": "white",
             "minorgridcolor": "white",
             "startlinecolor": "#2a3f5f"
            },
            "baxis": {
             "endlinecolor": "#2a3f5f",
             "gridcolor": "white",
             "linecolor": "white",
             "minorgridcolor": "white",
             "startlinecolor": "#2a3f5f"
            },
            "type": "carpet"
           }
          ],
          "choropleth": [
           {
            "colorbar": {
             "outlinewidth": 0,
             "ticks": ""
            },
            "type": "choropleth"
           }
          ],
          "contour": [
           {
            "colorbar": {
             "outlinewidth": 0,
             "ticks": ""
            },
            "colorscale": [
             [
              0,
              "#0d0887"
             ],
             [
              0.1111111111111111,
              "#46039f"
             ],
             [
              0.2222222222222222,
              "#7201a8"
             ],
             [
              0.3333333333333333,
              "#9c179e"
             ],
             [
              0.4444444444444444,
              "#bd3786"
             ],
             [
              0.5555555555555556,
              "#d8576b"
             ],
             [
              0.6666666666666666,
              "#ed7953"
             ],
             [
              0.7777777777777778,
              "#fb9f3a"
             ],
             [
              0.8888888888888888,
              "#fdca26"
             ],
             [
              1,
              "#f0f921"
             ]
            ],
            "type": "contour"
           }
          ],
          "contourcarpet": [
           {
            "colorbar": {
             "outlinewidth": 0,
             "ticks": ""
            },
            "type": "contourcarpet"
           }
          ],
          "heatmap": [
           {
            "colorbar": {
             "outlinewidth": 0,
             "ticks": ""
            },
            "colorscale": [
             [
              0,
              "#0d0887"
             ],
             [
              0.1111111111111111,
              "#46039f"
             ],
             [
              0.2222222222222222,
              "#7201a8"
             ],
             [
              0.3333333333333333,
              "#9c179e"
             ],
             [
              0.4444444444444444,
              "#bd3786"
             ],
             [
              0.5555555555555556,
              "#d8576b"
             ],
             [
              0.6666666666666666,
              "#ed7953"
             ],
             [
              0.7777777777777778,
              "#fb9f3a"
             ],
             [
              0.8888888888888888,
              "#fdca26"
             ],
             [
              1,
              "#f0f921"
             ]
            ],
            "type": "heatmap"
           }
          ],
          "heatmapgl": [
           {
            "colorbar": {
             "outlinewidth": 0,
             "ticks": ""
            },
            "colorscale": [
             [
              0,
              "#0d0887"
             ],
             [
              0.1111111111111111,
              "#46039f"
             ],
             [
              0.2222222222222222,
              "#7201a8"
             ],
             [
              0.3333333333333333,
              "#9c179e"
             ],
             [
              0.4444444444444444,
              "#bd3786"
             ],
             [
              0.5555555555555556,
              "#d8576b"
             ],
             [
              0.6666666666666666,
              "#ed7953"
             ],
             [
              0.7777777777777778,
              "#fb9f3a"
             ],
             [
              0.8888888888888888,
              "#fdca26"
             ],
             [
              1,
              "#f0f921"
             ]
            ],
            "type": "heatmapgl"
           }
          ],
          "histogram": [
           {
            "marker": {
             "pattern": {
              "fillmode": "overlay",
              "size": 10,
              "solidity": 0.2
             }
            },
            "type": "histogram"
           }
          ],
          "histogram2d": [
           {
            "colorbar": {
             "outlinewidth": 0,
             "ticks": ""
            },
            "colorscale": [
             [
              0,
              "#0d0887"
             ],
             [
              0.1111111111111111,
              "#46039f"
             ],
             [
              0.2222222222222222,
              "#7201a8"
             ],
             [
              0.3333333333333333,
              "#9c179e"
             ],
             [
              0.4444444444444444,
              "#bd3786"
             ],
             [
              0.5555555555555556,
              "#d8576b"
             ],
             [
              0.6666666666666666,
              "#ed7953"
             ],
             [
              0.7777777777777778,
              "#fb9f3a"
             ],
             [
              0.8888888888888888,
              "#fdca26"
             ],
             [
              1,
              "#f0f921"
             ]
            ],
            "type": "histogram2d"
           }
          ],
          "histogram2dcontour": [
           {
            "colorbar": {
             "outlinewidth": 0,
             "ticks": ""
            },
            "colorscale": [
             [
              0,
              "#0d0887"
             ],
             [
              0.1111111111111111,
              "#46039f"
             ],
             [
              0.2222222222222222,
              "#7201a8"
             ],
             [
              0.3333333333333333,
              "#9c179e"
             ],
             [
              0.4444444444444444,
              "#bd3786"
             ],
             [
              0.5555555555555556,
              "#d8576b"
             ],
             [
              0.6666666666666666,
              "#ed7953"
             ],
             [
              0.7777777777777778,
              "#fb9f3a"
             ],
             [
              0.8888888888888888,
              "#fdca26"
             ],
             [
              1,
              "#f0f921"
             ]
            ],
            "type": "histogram2dcontour"
           }
          ],
          "mesh3d": [
           {
            "colorbar": {
             "outlinewidth": 0,
             "ticks": ""
            },
            "type": "mesh3d"
           }
          ],
          "parcoords": [
           {
            "line": {
             "colorbar": {
              "outlinewidth": 0,
              "ticks": ""
             }
            },
            "type": "parcoords"
           }
          ],
          "pie": [
           {
            "automargin": true,
            "type": "pie"
           }
          ],
          "scatter": [
           {
            "fillpattern": {
             "fillmode": "overlay",
             "size": 10,
             "solidity": 0.2
            },
            "type": "scatter"
           }
          ],
          "scatter3d": [
           {
            "line": {
             "colorbar": {
              "outlinewidth": 0,
              "ticks": ""
             }
            },
            "marker": {
             "colorbar": {
              "outlinewidth": 0,
              "ticks": ""
             }
            },
            "type": "scatter3d"
           }
          ],
          "scattercarpet": [
           {
            "marker": {
             "colorbar": {
              "outlinewidth": 0,
              "ticks": ""
             }
            },
            "type": "scattercarpet"
           }
          ],
          "scattergeo": [
           {
            "marker": {
             "colorbar": {
              "outlinewidth": 0,
              "ticks": ""
             }
            },
            "type": "scattergeo"
           }
          ],
          "scattergl": [
           {
            "marker": {
             "colorbar": {
              "outlinewidth": 0,
              "ticks": ""
             }
            },
            "type": "scattergl"
           }
          ],
          "scattermapbox": [
           {
            "marker": {
             "colorbar": {
              "outlinewidth": 0,
              "ticks": ""
             }
            },
            "type": "scattermapbox"
           }
          ],
          "scatterpolar": [
           {
            "marker": {
             "colorbar": {
              "outlinewidth": 0,
              "ticks": ""
             }
            },
            "type": "scatterpolar"
           }
          ],
          "scatterpolargl": [
           {
            "marker": {
             "colorbar": {
              "outlinewidth": 0,
              "ticks": ""
             }
            },
            "type": "scatterpolargl"
           }
          ],
          "scatterternary": [
           {
            "marker": {
             "colorbar": {
              "outlinewidth": 0,
              "ticks": ""
             }
            },
            "type": "scatterternary"
           }
          ],
          "surface": [
           {
            "colorbar": {
             "outlinewidth": 0,
             "ticks": ""
            },
            "colorscale": [
             [
              0,
              "#0d0887"
             ],
             [
              0.1111111111111111,
              "#46039f"
             ],
             [
              0.2222222222222222,
              "#7201a8"
             ],
             [
              0.3333333333333333,
              "#9c179e"
             ],
             [
              0.4444444444444444,
              "#bd3786"
             ],
             [
              0.5555555555555556,
              "#d8576b"
             ],
             [
              0.6666666666666666,
              "#ed7953"
             ],
             [
              0.7777777777777778,
              "#fb9f3a"
             ],
             [
              0.8888888888888888,
              "#fdca26"
             ],
             [
              1,
              "#f0f921"
             ]
            ],
            "type": "surface"
           }
          ],
          "table": [
           {
            "cells": {
             "fill": {
              "color": "#EBF0F8"
             },
             "line": {
              "color": "white"
             }
            },
            "header": {
             "fill": {
              "color": "#C8D4E3"
             },
             "line": {
              "color": "white"
             }
            },
            "type": "table"
           }
          ]
         },
         "layout": {
          "annotationdefaults": {
           "arrowcolor": "#2a3f5f",
           "arrowhead": 0,
           "arrowwidth": 1
          },
          "autotypenumbers": "strict",
          "coloraxis": {
           "colorbar": {
            "outlinewidth": 0,
            "ticks": ""
           }
          },
          "colorscale": {
           "diverging": [
            [
             0,
             "#8e0152"
            ],
            [
             0.1,
             "#c51b7d"
            ],
            [
             0.2,
             "#de77ae"
            ],
            [
             0.3,
             "#f1b6da"
            ],
            [
             0.4,
             "#fde0ef"
            ],
            [
             0.5,
             "#f7f7f7"
            ],
            [
             0.6,
             "#e6f5d0"
            ],
            [
             0.7,
             "#b8e186"
            ],
            [
             0.8,
             "#7fbc41"
            ],
            [
             0.9,
             "#4d9221"
            ],
            [
             1,
             "#276419"
            ]
           ],
           "sequential": [
            [
             0,
             "#0d0887"
            ],
            [
             0.1111111111111111,
             "#46039f"
            ],
            [
             0.2222222222222222,
             "#7201a8"
            ],
            [
             0.3333333333333333,
             "#9c179e"
            ],
            [
             0.4444444444444444,
             "#bd3786"
            ],
            [
             0.5555555555555556,
             "#d8576b"
            ],
            [
             0.6666666666666666,
             "#ed7953"
            ],
            [
             0.7777777777777778,
             "#fb9f3a"
            ],
            [
             0.8888888888888888,
             "#fdca26"
            ],
            [
             1,
             "#f0f921"
            ]
           ],
           "sequentialminus": [
            [
             0,
             "#0d0887"
            ],
            [
             0.1111111111111111,
             "#46039f"
            ],
            [
             0.2222222222222222,
             "#7201a8"
            ],
            [
             0.3333333333333333,
             "#9c179e"
            ],
            [
             0.4444444444444444,
             "#bd3786"
            ],
            [
             0.5555555555555556,
             "#d8576b"
            ],
            [
             0.6666666666666666,
             "#ed7953"
            ],
            [
             0.7777777777777778,
             "#fb9f3a"
            ],
            [
             0.8888888888888888,
             "#fdca26"
            ],
            [
             1,
             "#f0f921"
            ]
           ]
          },
          "colorway": [
           "#636efa",
           "#EF553B",
           "#00cc96",
           "#ab63fa",
           "#FFA15A",
           "#19d3f3",
           "#FF6692",
           "#B6E880",
           "#FF97FF",
           "#FECB52"
          ],
          "font": {
           "color": "#2a3f5f"
          },
          "geo": {
           "bgcolor": "white",
           "lakecolor": "white",
           "landcolor": "#E5ECF6",
           "showlakes": true,
           "showland": true,
           "subunitcolor": "white"
          },
          "hoverlabel": {
           "align": "left"
          },
          "hovermode": "closest",
          "mapbox": {
           "style": "light"
          },
          "paper_bgcolor": "white",
          "plot_bgcolor": "#E5ECF6",
          "polar": {
           "angularaxis": {
            "gridcolor": "white",
            "linecolor": "white",
            "ticks": ""
           },
           "bgcolor": "#E5ECF6",
           "radialaxis": {
            "gridcolor": "white",
            "linecolor": "white",
            "ticks": ""
           }
          },
          "scene": {
           "xaxis": {
            "backgroundcolor": "#E5ECF6",
            "gridcolor": "white",
            "gridwidth": 2,
            "linecolor": "white",
            "showbackground": true,
            "ticks": "",
            "zerolinecolor": "white"
           },
           "yaxis": {
            "backgroundcolor": "#E5ECF6",
            "gridcolor": "white",
            "gridwidth": 2,
            "linecolor": "white",
            "showbackground": true,
            "ticks": "",
            "zerolinecolor": "white"
           },
           "zaxis": {
            "backgroundcolor": "#E5ECF6",
            "gridcolor": "white",
            "gridwidth": 2,
            "linecolor": "white",
            "showbackground": true,
            "ticks": "",
            "zerolinecolor": "white"
           }
          },
          "shapedefaults": {
           "line": {
            "color": "#2a3f5f"
           }
          },
          "ternary": {
           "aaxis": {
            "gridcolor": "white",
            "linecolor": "white",
            "ticks": ""
           },
           "baxis": {
            "gridcolor": "white",
            "linecolor": "white",
            "ticks": ""
           },
           "bgcolor": "#E5ECF6",
           "caxis": {
            "gridcolor": "white",
            "linecolor": "white",
            "ticks": ""
           }
          },
          "title": {
           "x": 0.05
          },
          "xaxis": {
           "automargin": true,
           "gridcolor": "white",
           "linecolor": "white",
           "ticks": "",
           "title": {
            "standoff": 15
           },
           "zerolinecolor": "white",
           "zerolinewidth": 2
          },
          "yaxis": {
           "automargin": true,
           "gridcolor": "white",
           "linecolor": "white",
           "ticks": "",
           "title": {
            "standoff": 15
           },
           "zerolinecolor": "white",
           "zerolinewidth": 2
          }
         }
        }
       }
      }
     },
     "metadata": {},
     "output_type": "display_data"
    }
   ],
   "source": [
    "fig = px.pie(data, values='Deaths', names='Bldg #', color='Side', hole=0.3)\n",
    "fig.update_traces(textinfo='label+percent',insidetextfont={'color':'white'},title='Pie Chart')\n",
    "fig.update_layout(legend={'itemclick':False})\n",
    "fig.show()"
   ]
  },
  {
   "cell_type": "markdown",
   "metadata": {},
   "source": [
    "# <font color='cyan'>Bar Graph : </font>  "
   ]
  },
  {
   "cell_type": "code",
   "execution_count": null,
   "metadata": {},
   "outputs": [
    {
     "name": "stdout",
     "output_type": "stream",
     "text": [
      "   year  gender  detenues  under_trial  convicts  others\n",
      "0  2001  Female         1          583       279       0\n",
      "1  2001    Male       364        14863      6433       4\n",
      "2  2002  Female         8          648       311       0\n",
      "3  2002    Male       299        13869      6887       0\n",
      "4  2003  Female         1          728       390       0\n"
     ]
    },
    {
     "data": {
      "application/vnd.plotly.v1+json": {
       "config": {
        "plotlyServerURL": "https://plot.ly"
       },
       "data": [
        {
         "alignmentgroup": "True",
         "customdata": [
          [
           1
          ],
          [
           8
          ],
          [
           1
          ],
          [
           0
          ],
          [
           1
          ],
          [
           1
          ],
          [
           1
          ],
          [
           2
          ],
          [
           0
          ],
          [
           2
          ],
          [
           0
          ],
          [
           0
          ],
          [
           1
          ]
         ],
         "hovertemplate": "<b>%{hovertext}</b><br><br>Gender=Female<br>others=%{x}<br>Convicts in Maharashtra=%{text}<br>detenues=%{customdata[0]}<extra></extra>",
         "hovertext": [
          583,
          648,
          728,
          772,
          862,
          911,
          841,
          936,
          953,
          846,
          915,
          881,
          1121
         ],
         "legendgroup": "Female",
         "marker": {
          "color": "#1F77B4",
          "opacity": 0.9,
          "pattern": {
           "shape": ""
          }
         },
         "name": "Female",
         "offsetgroup": "Female",
         "orientation": "v",
         "showlegend": true,
         "text": [
          279,
          311,
          390,
          484,
          463,
          449,
          511,
          499,
          529,
          449,
          461,
          457,
          437
         ],
         "textposition": "auto",
         "type": "bar",
         "x": [
          0,
          0,
          0,
          0,
          0,
          0,
          0,
          0,
          0,
          0,
          0,
          0,
          0
         ],
         "xaxis": "x",
         "y": [
          279,
          311,
          390,
          484,
          463,
          449,
          511,
          499,
          529,
          449,
          461,
          457,
          437
         ],
         "yaxis": "y"
        },
        {
         "alignmentgroup": "True",
         "customdata": [
          [
           364
          ],
          [
           299
          ],
          [
           188
          ],
          [
           170
          ],
          [
           234
          ],
          [
           273
          ],
          [
           151
          ],
          [
           111
          ],
          [
           82
          ],
          [
           75
          ],
          [
           66
          ],
          [
           42
          ],
          [
           27
          ]
         ],
         "hovertemplate": "<b>%{hovertext}</b><br><br>Gender=Male<br>others=%{x}<br>Convicts in Maharashtra=%{text}<br>detenues=%{customdata[0]}<extra></extra>",
         "hovertext": [
          14863,
          13869,
          14776,
          15012,
          15084,
          15454,
          15696,
          15618,
          15227,
          15219,
          15149,
          15545,
          18210
         ],
         "legendgroup": "Male",
         "marker": {
          "color": "#FF7F0E",
          "opacity": 0.9,
          "pattern": {
           "shape": ""
          }
         },
         "name": "Male",
         "offsetgroup": "Male",
         "orientation": "v",
         "showlegend": true,
         "text": [
          6433,
          6887,
          7825,
          8447,
          8766,
          8700,
          8692,
          8665,
          8093,
          7690,
          7491,
          7569,
          7604
         ],
         "textposition": "auto",
         "type": "bar",
         "x": [
          4,
          0,
          21,
          37,
          21,
          1,
          0,
          0,
          0,
          0,
          0,
          15,
          0
         ],
         "xaxis": "x",
         "y": [
          6433,
          6887,
          7825,
          8447,
          8766,
          8700,
          8692,
          8665,
          8093,
          7690,
          7491,
          7569,
          7604
         ],
         "yaxis": "y"
        }
       ],
       "layout": {
        "barmode": "group",
        "height": 720,
        "legend": {
         "title": {
          "text": "Gender"
         },
         "tracegroupgap": 0
        },
        "template": {
         "data": {
          "pie": [
           {
            "automargin": true,
            "type": "pie"
           }
          ]
         },
         "layout": {
          "xaxis": {
           "showgrid": true,
           "title": {
            "standoff": 15
           }
          },
          "yaxis": {
           "showgrid": true,
           "title": {
            "standoff": 15
           }
          }
         }
        },
        "title": {
         "text": "Indian Prison Statistics"
        },
        "width": 1100,
        "xaxis": {
         "anchor": "y",
         "domain": [
          0,
          1
         ],
         "title": {
          "text": "others"
         }
        },
        "yaxis": {
         "anchor": "x",
         "domain": [
          0,
          1
         ],
         "title": {
          "text": "Convicts in Maharashtra"
         }
        }
       }
      }
     },
     "metadata": {},
     "output_type": "display_data"
    }
   ],
   "source": [
    "# excel sheet from https://www.kaggle.com/rajanand/prison-in-india/data\n",
    "# National Crime Records Bureau (NCRB), Govt of India has shared this dataset\n",
    "df = pd.read_csv(\"Caste.csv\")\n",
    "df = df[df['state_name']=='Maharashtra']\n",
    "df = df.groupby(['year','gender',],as_index=False)[['detenues','under_trial','convicts','others']].sum()\n",
    "print (df[:5])\n",
    "\n",
    "#fake margin of error, standard deviation, or 95% confidence interval\n",
    "# df['err_plus'] = df['convicts']/100\n",
    "# df['err_minus'] = df['convicts']/40\n",
    "\n",
    "barchart = px.bar(\n",
    "    data_frame=df,\n",
    "    x=\"others\",\n",
    "    y=\"convicts\",\n",
    "    color=\"gender\",               # differentiate color of marks\n",
    "    opacity=0.9,                  # set opacity of markers (from 0 to 1)\n",
    "    orientation=\"v\",              # 'v','h': orientation of the marks\n",
    "    barmode='group',           # in 'overlay' mode, bars are top of one another.\n",
    "                                  # in 'group' mode, bars are placed beside each other.\n",
    "                                  # in 'relative' mode, bars are stacked above (+) or below (-) zero.\n",
    "    #----------------------------------------------------------------------------------------------\n",
    "    # facet_row='caste',          # assign marks to subplots in the vertical direction\n",
    "    # facet_col='caste',          # assigns marks to subplots in the horizontal direction\n",
    "    # facet_col_wrap=2,           # maximum number of subplot columns. Do not set facet_row!\n",
    "\n",
    "    #color_discrete_sequence=[\"pink\",\"yellow\"],               # set specific marker colors. Color-colum data cannot be numeric\n",
    "    # color_discrete_map={\"Male\": \"gray\" ,\"Female\":\"red\"},     # map your chosen colors\n",
    "    # color_continuous_scale=px.colors.diverging.Picnic,       # set marker colors. When color colum is numeric data\n",
    "    # color_continuous_midpoint=100,                           # set desired midpoint. When colors=diverging\n",
    "    # range_color=[1,10000],                                   # set your own continuous color scale\n",
    "    #----------------------------------------------------------------------------------------------\n",
    "    text='convicts',            # values appear in figure as text labels\n",
    "    hover_name='under_trial',   # values appear in bold in the hover tooltip\n",
    "    hover_data=['detenues'],    # values appear as extra data in the hover tooltip\n",
    "    # custom_data=['others'],     # invisible values that are extra data to be used in Dash callbacks or widgets\n",
    "\n",
    "    # log_x=True,                 # x-axis is log-scaled\n",
    "    # log_y=True,                 # y-axis is log-scaled\n",
    "    # error_y=\"err_plus\",         # y-axis error bars are symmetrical or for positive direction\n",
    "    # error_y_minus=\"err_minus\",  # y-axis error bars in the negative direction\n",
    "\n",
    "    labels={\"convicts\":\"Convicts in Maharashtra\",\n",
    "    \"gender\":\"Gender\"},           # map the labels of the figure\n",
    "    title='Indian Prison Statistics', # figure title\n",
    "    width=1100,                   # figure width in pixels\n",
    "    height=720,                   # figure height in pixels\n",
    "    template='gridon',            # 'ggplot2', 'seaborn', 'simple_white', 'plotly',\n",
    "                                  # 'plotly_white', 'plotly_dark', 'presentation',\n",
    "                                  # 'xgridoff', 'ygridoff', 'gridon', 'none'\n",
    "\n",
    "     #animation_frame='year',     # assign marks to animation frames\n",
    "    # # animation_group=,         # use only when df has multiple rows with same object\n",
    "    # # range_x=[5,50],           # set range of x-axis\n",
    "     #range_y=[0,9000],           # set range of x-axis\n",
    "     #category_orders={'year':    # force a specific ordering of values per column\n",
    "     #[2013,2012,2011,2010,2009,2008,2007,2006,2005,2004,2003,2002,2001]},\n",
    "\n",
    ")\n",
    "\n",
    "#barchart.layout.updatemenus[0].buttons[0].args[1]['frame']['duration'] = 1000\n",
    "#barchart.layout.updatemenus[0].buttons[0].args[1]['transition']['duration'] = 500\n",
    "\n",
    "#barchart.update_layout(uniformtext_minsize=14, uniformtext_mode='hide',\n",
    " #                       legend={'x':0,'y':1.0}),\n",
    "# barchart.update_traces(texttemplate='%{text:.2s}', textposition='outside',\n",
    "#                        width=[.3,.3,.3,.3,.3,.3,.6,.3,.3,.3,.3,.3,.3])\n",
    "\n",
    "\n",
    "pio.show(barchart)"
   ]
  },
  {
   "cell_type": "code",
   "execution_count": null,
   "metadata": {},
   "outputs": [],
   "source": []
  }
 ],
 "metadata": {
  "kernelspec": {
   "display_name": "Python 3.10.8 64-bit (microsoft store)",
   "language": "python",
   "name": "python3"
  },
  "language_info": {
   "codemirror_mode": {
    "name": "ipython",
    "version": 3
   },
   "file_extension": ".py",
   "mimetype": "text/x-python",
   "name": "python",
   "nbconvert_exporter": "python",
   "pygments_lexer": "ipython3",
   "version": "3.10.8"
  },
  "orig_nbformat": 4,
  "vscode": {
   "interpreter": {
    "hash": "07e2200706f4f5ade5edc4fb2df5615e338858ca2765ca4bc5bf2a4b66059c57"
   }
  }
 },
 "nbformat": 4,
 "nbformat_minor": 2
}
